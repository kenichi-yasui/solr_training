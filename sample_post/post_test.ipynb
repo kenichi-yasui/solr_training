{
 "cells": [
  {
   "cell_type": "code",
   "execution_count": 28,
   "metadata": {},
   "outputs": [],
   "source": [
    "import requests\n",
    "import os\n",
    "import json\n",
    "import glob\n",
    "import ast"
   ]
  },
  {
   "cell_type": "code",
   "execution_count": 4,
   "metadata": {},
   "outputs": [],
   "source": [
    "g_core_name=\"honzuki\"\n",
    "g_url_base=\"http://127.0.0.1:8983/solr/\"+g_core_name+\"/\""
   ]
  },
  {
   "cell_type": "code",
   "execution_count": 5,
   "metadata": {},
   "outputs": [],
   "source": [
    "def get_url_add(url_base,is_commit=True):\n",
    "    commit = \"true\" if is_commit else \"false\"\n",
    "    header={\"Content-Type\": \"text/json\"}\n",
    "    return url_base+\"update?commit=\"+commit,header"
   ]
  },
  {
   "cell_type": "code",
   "execution_count": 6,
   "metadata": {},
   "outputs": [],
   "source": [
    "add_data = {\"id\":\"AAA\",\"main_text\":\"test\"}\n"
   ]
  },
  {
   "cell_type": "code",
   "execution_count": 8,
   "metadata": {},
   "outputs": [
    {
     "data": {
      "text/plain": [
       "'http://127.0.0.1:8983/solr/honzuki/update?commit=true'"
      ]
     },
     "execution_count": 8,
     "metadata": {},
     "output_type": "execute_result"
    }
   ],
   "source": [
    "\n",
    "url,header = get_url_add(g_url_base)\n",
    "url"
   ]
  },
  {
   "cell_type": "code",
   "execution_count": 9,
   "metadata": {},
   "outputs": [
    {
     "name": "stdout",
     "output_type": "stream",
     "text": [
      "http://127.0.0.1:8983/solr/honzuki/update?commit=true\n",
      "<Response [200]>\n",
      "{\n",
      "  \"responseHeader\":{\n",
      "    \"status\":0,\n",
      "    \"QTime\":79}}\n",
      "\n"
     ]
    }
   ],
   "source": [
    "url,header = get_url_add(g_url_base)\n",
    "print(url)\n",
    "ret=requests.post(url,headers=header,data=json.dumps([add_data]))\n",
    "print(ret)\n",
    "print(ret.text)"
   ]
  },
  {
   "cell_type": "code",
   "execution_count": null,
   "metadata": {
    "scrolled": true
   },
   "outputs": [],
   "source": [
    "file_list = glob.glob(\"C:/Users/mopper/SkyDrive/ドキュメント/本好きの下剋上/本好きの下克上まとめ/*/*.txt\")\n",
    "file_list"
   ]
  },
  {
   "cell_type": "code",
   "execution_count": 12,
   "metadata": {},
   "outputs": [],
   "source": [
    "honzuki_url=\"https://ncode.syosetu.com/n4830bu/\"\n",
    "hanne_url=\"https://ncode.syosetu.com/n7835cj/\""
   ]
  },
  {
   "cell_type": "code",
   "execution_count": 15,
   "metadata": {},
   "outputs": [],
   "source": [
    "def get_add_json(file_path,base_url):\n",
    "    base_name = os.path.basename(file_path)\n",
    "    dir_name = os.path.basename(os.path.dirname(file_path))\n",
    "    \n",
    "    base_name=base_name[:-4]\n",
    "    book_no = base_name.split(\"_\")[0]\n",
    "    \n",
    "    text=\"\"\n",
    "    \n",
    "    with open(file_path,encoding=\"utf_8\") as f:\n",
    "        while(True):\n",
    "            s=f.readline()\n",
    "            if not s:\n",
    "                break\n",
    "            text+= s\n",
    "            text+=\"\\\\n\"\n",
    "         \n",
    "    url =base_url\n",
    "    if url[-1]!=\"/\":\n",
    "        url+=\"/\"\n",
    "    url=url+book_no+\"/\"\n",
    "    ret_dict ={\n",
    "        \"id\":dir_name+\"_\"+book_no,\n",
    "        \"book_no\":book_no,\n",
    "        \"chapter\":dir_name,\n",
    "        \"title\":base_name,\n",
    "        \"narou_url\":url,\n",
    "        \"main_text\":text}\n",
    "    return ret_dict"
   ]
  },
  {
   "cell_type": "code",
   "execution_count": 16,
   "metadata": {},
   "outputs": [
    {
     "name": "stdout",
     "output_type": "stream",
     "text": [
      "http://127.0.0.1:8983/solr/honzuki/update?commit=true\n",
      "<Response [200]>\n",
      "{\n",
      "  \"responseHeader\":{\n",
      "    \"status\":0,\n",
      "    \"QTime\":111}}\n",
      "\n"
     ]
    }
   ],
   "source": [
    "url,header = get_url_add(g_url_base)\n",
    "add_data = get_add_json(file_list[0],hanne_url)\n",
    "print(url)\n",
    "ret=requests.post(url,headers=header,data=json.dumps([add_data]))\n",
    "print(ret)\n",
    "print(ret.text)"
   ]
  },
  {
   "cell_type": "code",
   "execution_count": null,
   "metadata": {},
   "outputs": [],
   "source": [
    "\n",
    "for file_path in file_list:\n",
    "    base_url=\"https://ncode.syosetu.com/n4830bu/\"\n",
    "    if \"SS_ハンネローレ視点\" in file_path:\n",
    "        base_url=\"https://ncode.syosetu.com/n7835cj/\"\n",
    "    url,header = get_url_add(g_url_base)\n",
    "    add_data = get_add_json(file_path,hanne_url)\n",
    "    print(url)\n",
    "    for key in add_data.keys():\n",
    "        if key==\"main_text\":\n",
    "            continue\n",
    "        print(\"{0}:{1}\".format(key,add_data[key][:100]))\n",
    "    ret=requests.post(url,headers=header,data=json.dumps([add_data]))\n",
    "    print(ret)\n",
    "    print(\"---------------------\")"
   ]
  },
  {
   "cell_type": "code",
   "execution_count": 26,
   "metadata": {},
   "outputs": [
    {
     "name": "stdout",
     "output_type": "stream",
     "text": [
      "<Response [200]>\n",
      "{\n",
      "  \"responseHeader\":{\n",
      "    \"status\":0,\n",
      "    \"QTime\":0,\n",
      "    \"params\":{\n",
      "      \"q\":\"*:*\",\n",
      "      \"json\":\"\n"
     ]
    }
   ],
   "source": [
    "url=\"http://127.0.0.1:8983/solr/honzuki/select?q=*%3A*\"\n",
    "\n",
    "ret=requests.post(url,headers=header)\n",
    "print(ret)\n",
    "print(ret.text[:100])"
   ]
  },
  {
   "cell_type": "code",
   "execution_count": 37,
   "metadata": {},
   "outputs": [
    {
     "data": {
      "text/plain": [
       "str"
      ]
     },
     "execution_count": 37,
     "metadata": {},
     "output_type": "execute_result"
    }
   ],
   "source": [
    "type(ret.text)"
   ]
  },
  {
   "cell_type": "code",
   "execution_count": 44,
   "metadata": {},
   "outputs": [
    {
     "data": {
      "text/plain": [
       "dict_keys(['responseHeader', 'response'])"
      ]
     },
     "execution_count": 44,
     "metadata": {},
     "output_type": "execute_result"
    }
   ],
   "source": [
    "jsonData = ret.json()\n",
    "jsonData.keys()"
   ]
  },
  {
   "cell_type": "code",
   "execution_count": 47,
   "metadata": {},
   "outputs": [
    {
     "data": {
      "text/plain": [
       "dict_keys(['numFound', 'start', 'numFoundExact', 'docs'])"
      ]
     },
     "execution_count": 47,
     "metadata": {},
     "output_type": "execute_result"
    }
   ],
   "source": [
    "jsonData = ret.json()\n",
    "jsonData[\"response\"].keys()"
   ]
  },
  {
   "cell_type": "code",
   "execution_count": 50,
   "metadata": {},
   "outputs": [
    {
     "data": {
      "text/plain": [
       "list"
      ]
     },
     "execution_count": 50,
     "metadata": {},
     "output_type": "execute_result"
    }
   ],
   "source": [
    "jsonData = ret.json()\n",
    "type(jsonData[\"response\"][\"docs\"])"
   ]
  },
  {
   "cell_type": "code",
   "execution_count": 51,
   "metadata": {},
   "outputs": [
    {
     "data": {
      "text/plain": [
       "{'id': 'dummy_100',\n",
       " 'book_no': '100',\n",
       " 'chapter': 'dummy',\n",
       " 'title': '02_新しい生活',\n",
       " 'narou_url': 'dummy',\n",
       " 'main_text': '第一部\\u3000兵士の娘 dummy',\n",
       " '_version_': 1685852314957512704}"
      ]
     },
     "execution_count": 51,
     "metadata": {},
     "output_type": "execute_result"
    }
   ],
   "source": [
    "jsonData[\"response\"][\"docs\"][0]"
   ]
  },
  {
   "cell_type": "code",
   "execution_count": null,
   "metadata": {
    "scrolled": false
   },
   "outputs": [],
   "source": [
    "search_word=\"フリーダ\"\n",
    "\n",
    "url=g_url_base+\"select?q.alt=\"+search_word+\"&wt=json&indent=true&defType=dismax&qf=main_text+title+chapter\"\n",
    "print(url)\n",
    "ret=requests.post(url,headers=header)\n",
    "\n",
    "jsonData = ret.json()[\"response\"][\"docs\"]\n",
    "for i in range(len(jsonData)):\n",
    "    for key in jsonData[i].keys():\n",
    "        data = jsonData[i][key]\n",
    "        if type(data)==str:\n",
    "            data=data[:50]\n",
    "        print(\"{0}:{1}\".format(key,data))\n",
    "    print(\"-----------------------------\")\n",
    "   "
   ]
  },
  {
   "cell_type": "code",
   "execution_count": null,
   "metadata": {},
   "outputs": [],
   "source": [
    "search_word=\"ダンケルフェルガー\"\n",
    "\n",
    "url=g_url_base+\"select?q=\\\"\"+search_word+\"\\\"&wt=json&indent=true&defType=dismax&qf=main_text+title+chapter&start=0&rows=50\"\n",
    "print(url)\n",
    "ret=requests.post(url,headers=header)\n",
    "\n",
    "jsonData = ret.json()[\"response\"][\"docs\"]\n",
    "print(\"ヒット数(上限50):\",len(jsonData))\n",
    "for i in range(len(jsonData)):\n",
    "    print(\"{0}:[{1}]\".format(\"title\",jsonData[i][\"title\"]))\n",
    "print(\"-----------------------------\")\n",
    "   "
   ]
  },
  {
   "cell_type": "code",
   "execution_count": null,
   "metadata": {},
   "outputs": [],
   "source": [
    "search_word=\"ローゼマイン\"\n",
    "\n",
    "url=g_url_base+\"select?q=\\\"\"+search_word+\"\\\"&wt=json&indent=true&defType=dismax&qf=main_text+title+chapter&start=0&rows=50\"\n",
    "print(url)\n",
    "ret=requests.post(url,headers=header)\n",
    "\n",
    "jsonData = ret.json()[\"response\"][\"docs\"]\n",
    "for i in range(len(jsonData)):\n",
    "    for key in jsonData[i].keys():\n",
    "        if key==\"_version_\":\n",
    "            continue\n",
    "        data = jsonData[i][key]\n",
    "        if type(data)==str:\n",
    "            data=data[:50].replace(\"\\n\",\"\")\n",
    "        print(\"{0}:{1}\".format(key,data))\n",
    "    print(\"-----------------------------\")\n",
    "   "
   ]
  },
  {
   "cell_type": "code",
   "execution_count": null,
   "metadata": {},
   "outputs": [],
   "source": []
  }
 ],
 "metadata": {
  "kernelspec": {
   "display_name": "Python 3",
   "language": "python",
   "name": "python3"
  },
  "language_info": {
   "codemirror_mode": {
    "name": "ipython",
    "version": 3
   },
   "file_extension": ".py",
   "mimetype": "text/x-python",
   "name": "python",
   "nbconvert_exporter": "python",
   "pygments_lexer": "ipython3",
   "version": "3.8.5"
  }
 },
 "nbformat": 4,
 "nbformat_minor": 4
}
