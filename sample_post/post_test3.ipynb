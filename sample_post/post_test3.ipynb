{
 "cells": [
  {
   "cell_type": "code",
   "execution_count": 1,
   "metadata": {},
   "outputs": [],
   "source": [
    "import requests\n",
    "import os\n",
    "import json\n",
    "import glob\n",
    "import ast\n",
    "import pandas as pd"
   ]
  },
  {
   "cell_type": "code",
   "execution_count": 2,
   "metadata": {},
   "outputs": [],
   "source": [
    "g_core_name=\"honzuki_test\"\n",
    "g_url_base=\"http://127.0.0.1:8983/solr/\"+g_core_name+\"/\""
   ]
  },
  {
   "cell_type": "code",
   "execution_count": 3,
   "metadata": {},
   "outputs": [],
   "source": [
    "def get_url_add(url_base,is_commit=True):\n",
    "    commit = \"true\" if is_commit else \"false\"\n",
    "    header={\"Content-Type\": \"text/json\"}\n",
    "    return url_base+\"update?commit=\"+commit,header"
   ]
  },
  {
   "cell_type": "code",
   "execution_count": 4,
   "metadata": {},
   "outputs": [],
   "source": [
    "add_data = {\"id\":\"AAA\",\"main_text\":\"test\"}\n"
   ]
  },
  {
   "cell_type": "code",
   "execution_count": 6,
   "metadata": {},
   "outputs": [
    {
     "data": {
      "text/plain": [
       "'http://127.0.0.1:8983/solr/honzuki_test/update?commit=true'"
      ]
     },
     "execution_count": 6,
     "metadata": {},
     "output_type": "execute_result"
    }
   ],
   "source": [
    "url,header = get_url_add(g_url_base)\n",
    "url"
   ]
  },
  {
   "cell_type": "code",
   "execution_count": 18,
   "metadata": {},
   "outputs": [],
   "source": [
    "def add_post(url_base,add_data):\n",
    "\n",
    "    url,header = get_url_add(url_base)\n",
    "    print(url)\n",
    "    ret=requests.post(url,headers=header,data=json.dumps([add_data]))\n",
    "    print(ret)\n",
    "    print(ret.text)"
   ]
  },
  {
   "cell_type": "code",
   "execution_count": 50,
   "metadata": {},
   "outputs": [
    {
     "name": "stdout",
     "output_type": "stream",
     "text": [
      "http://127.0.0.1:8983/solr/honzuki_test/update?commit=true\n",
      "<Response [200]>\n",
      "{\n",
      "  \"responseHeader\":{\n",
      "    \"status\":0,\n",
      "    \"QTime\":79}}\n",
      "\n",
      "http://127.0.0.1:8983/solr/honzuki_test/update?commit=true\n",
      "<Response [200]>\n",
      "{\n",
      "  \"responseHeader\":{\n",
      "    \"status\":0,\n",
      "    \"QTime\":69}}\n",
      "\n",
      "http://127.0.0.1:8983/solr/honzuki_test/update?commit=true\n",
      "<Response [200]>\n",
      "{\n",
      "  \"responseHeader\":{\n",
      "    \"status\":0,\n",
      "    \"QTime\":71}}\n",
      "\n",
      "http://127.0.0.1:8983/solr/honzuki_test/update?commit=true\n",
      "<Response [200]>\n",
      "{\n",
      "  \"responseHeader\":{\n",
      "    \"status\":0,\n",
      "    \"QTime\":75}}\n",
      "\n",
      "http://127.0.0.1:8983/solr/honzuki_test/update?commit=true\n",
      "<Response [200]>\n",
      "{\n",
      "  \"responseHeader\":{\n",
      "    \"status\":0,\n",
      "    \"QTime\":81}}\n",
      "\n"
     ]
    }
   ],
   "source": [
    "add_post(g_url_base,{\"id\":\"1234\",\"title\":\"鈴木\",\"main_text\":\"骨側一郎\"})\n",
    "add_post(g_url_base,{\"id\":\"123456\",\"title\":\"山田\",\"main_text\":\"鈴木一郎\"})\n",
    "add_post(g_url_base,{\"id\":\"1234567\",\"title\":\"鈴木\",\"main_text\":\"None\"})\n",
    "add_post(g_url_base,{\"id\":\"123456789\",\"title\":\"鈴木 鈴木\",\"main_text\":\"None\"})\n",
    "add_post(g_url_base,{\"id\":\"1234567890\",\"title\":\"鈴木 鈴木健司\",\"main_text\":\"None\"})"
   ]
  },
  {
   "cell_type": "code",
   "execution_count": 15,
   "metadata": {},
   "outputs": [],
   "source": [
    "# 対象を削除\n",
    "def delete_post(url_base,delete_id):\n",
    "    url,header = get_url_add(g_url_base)\n",
    "    print(url)\n",
    "    ret=requests.post(url,headers=header,data=json.dumps({\"delete\":{\"id\":delete_id}}))\n",
    "    print(ret)\n",
    "    print(ret.text)"
   ]
  },
  {
   "cell_type": "code",
   "execution_count": 17,
   "metadata": {},
   "outputs": [
    {
     "name": "stdout",
     "output_type": "stream",
     "text": [
      "http://127.0.0.1:8983/solr/honzuki_test/update?commit=true\n",
      "<Response [200]>\n",
      "{\n",
      "  \"responseHeader\":{\n",
      "    \"status\":0,\n",
      "    \"QTime\":16}}\n",
      "\n"
     ]
    }
   ],
   "source": [
    "delete_post(g_url_base,\"AAA\")"
   ]
  },
  {
   "cell_type": "code",
   "execution_count": 60,
   "metadata": {},
   "outputs": [
    {
     "name": "stdout",
     "output_type": "stream",
     "text": [
      "http://127.0.0.1:8983/solr/honzuki_test/select?q=*:*&wt=json&indent=true&defType=edismax&qf=title^1.5+main_text\n",
      "id:1234\n",
      "title:鈴木\n",
      "main_text:骨側一郎\n",
      "-----------------------------\n",
      "id:123456\n",
      "title:山田\n",
      "main_text:鈴木一郎\n",
      "-----------------------------\n",
      "id:1234567\n",
      "title:鈴木\n",
      "main_text:None\n",
      "-----------------------------\n",
      "id:123456789\n",
      "title:鈴木 鈴木\n",
      "main_text:None\n",
      "-----------------------------\n",
      "id:1234567890\n",
      "title:鈴木 鈴木健司\n",
      "main_text:None\n",
      "-----------------------------\n"
     ]
    }
   ],
   "source": [
    "search_word=\"*:*\"\n",
    "url=g_url_base+\"select?q=\"+search_word+\"&wt=json&indent=true&defType=edismax&qf=title^1.5+main_text\"\n",
    "print(url)\n",
    "ret=requests.post(url,headers=header)\n",
    "\n",
    "jsonData = ret.json()[\"response\"][\"docs\"]\n",
    "for i in range(len(jsonData)):\n",
    "    for key in jsonData[i].keys():\n",
    "        data = jsonData[i][key]\n",
    "        if type(data)==str:\n",
    "            data=data[:50]\n",
    "        if \"_version_\"==key:\n",
    "            continue\n",
    "        print(\"{0}:{1}\".format(key,data))\n",
    "    print(\"-----------------------------\")\n",
    "   "
   ]
  },
  {
   "cell_type": "code",
   "execution_count": 61,
   "metadata": {},
   "outputs": [
    {
     "name": "stdout",
     "output_type": "stream",
     "text": [
      "http://127.0.0.1:8983/solr/honzuki_test/select?q=鈴木 一郎&wt=json&indent=true&defType=edismax&qf=title^1.5+main_text&fl=*,score\n",
      "id:1234\n",
      "title:鈴木\n",
      "main_text:骨側一郎\n",
      "score:2.7510214\n",
      "-----------------------------\n",
      "id:123456\n",
      "title:山田\n",
      "main_text:鈴木一郎\n",
      "score:2.6811788\n",
      "-----------------------------\n",
      "id:1234567\n",
      "title:鈴木\n",
      "main_text:None\n",
      "score:1.7734823\n",
      "-----------------------------\n",
      "id:123456789\n",
      "title:鈴木 鈴木\n",
      "main_text:None\n",
      "score:1.7734822\n",
      "-----------------------------\n",
      "id:1234567890\n",
      "title:鈴木 鈴木健司\n",
      "main_text:None\n",
      "score:1.4480422\n",
      "-----------------------------\n"
     ]
    }
   ],
   "source": [
    "search_word=\"鈴木 一郎\"\n",
    "url=g_url_base+\"select?q=\"+search_word+\"&wt=json&indent=true&defType=edismax&qf=title^1.5+main_text&fl=*,score\"\n",
    "print(url)\n",
    "ret=requests.post(url,headers=header)\n",
    "\n",
    "jsonData = ret.json()[\"response\"][\"docs\"]\n",
    "for i in range(len(jsonData)):\n",
    "    for key in jsonData[i].keys():\n",
    "        data = jsonData[i][key]\n",
    "        if type(data)==str:\n",
    "            data=data[:50]\n",
    "        if \"_version_\"==key:\n",
    "            continue\n",
    "            \n",
    "        print(\"{0}:{1}\".format(key,data))\n",
    "    print(\"-----------------------------\")\n",
    "   "
   ]
  },
  {
   "cell_type": "code",
   "execution_count": null,
   "metadata": {},
   "outputs": [],
   "source": []
  },
  {
   "cell_type": "code",
   "execution_count": 64,
   "metadata": {},
   "outputs": [
    {
     "name": "stdout",
     "output_type": "stream",
     "text": [
      "http://127.0.0.1:8983/solr/honzuki_test/select?q=鈴木 一郎&wt=json&indent=true&defType=edismax&qf=title^1.5+main_text&tie=1&fl=*,score\n",
      "id:1234\n",
      "title:鈴木\n",
      "main_text:骨側一郎\n",
      "score:2.7510214\n",
      "-----------------------------\n",
      "id:123456\n",
      "title:山田\n",
      "main_text:鈴木一郎\n",
      "score:2.6811788\n",
      "-----------------------------\n",
      "id:1234567\n",
      "title:鈴木\n",
      "main_text:None\n",
      "score:1.7734823\n",
      "-----------------------------\n",
      "id:123456789\n",
      "title:鈴木 鈴木\n",
      "main_text:None\n",
      "score:1.7734822\n",
      "-----------------------------\n",
      "id:1234567890\n",
      "title:鈴木 鈴木健司\n",
      "main_text:None\n",
      "score:1.4480422\n",
      "-----------------------------\n"
     ]
    }
   ],
   "source": [
    "search_word=\"鈴木 一郎\"\n",
    "url=g_url_base+\"select?q=\"+search_word+\"&wt=json&indent=true&defType=edismax&qf=title^1.5+main_text&tie=1&fl=*,score\"\n",
    "print(url)\n",
    "ret=requests.post(url,headers=header)\n",
    "\n",
    "jsonData = ret.json()[\"response\"][\"docs\"]\n",
    "for i in range(len(jsonData)):\n",
    "    for key in jsonData[i].keys():\n",
    "        data = jsonData[i][key]\n",
    "        if type(data)==str:\n",
    "            data=data[:50]\n",
    "        if \"_version_\"==key:\n",
    "            continue\n",
    "        print(\"{0}:{1}\".format(key,data))\n",
    "\n",
    "    print(\"-----------------------------\")\n",
    "   "
   ]
  },
  {
   "cell_type": "code",
   "execution_count": 65,
   "metadata": {},
   "outputs": [
    {
     "name": "stdout",
     "output_type": "stream",
     "text": [
      "http://127.0.0.1:8983/solr/honzuki_test/select?q=鈴木 一郎&wt=json&indent=true&defType=edismax&qf=title+main_text&fl=*,score\n",
      "id:123456\n",
      "title:山田\n",
      "main_text:鈴木一郎\n",
      "score:2.6811788\n",
      "-----------------------------\n",
      "id:1234\n",
      "title:鈴木\n",
      "main_text:骨側一郎\n",
      "score:2.1598606\n",
      "-----------------------------\n",
      "id:1234567\n",
      "title:鈴木\n",
      "main_text:None\n",
      "score:1.1823215\n",
      "-----------------------------\n",
      "id:123456789\n",
      "title:鈴木 鈴木\n",
      "main_text:None\n",
      "score:1.1823215\n",
      "-----------------------------\n",
      "id:1234567890\n",
      "title:鈴木 鈴木健司\n",
      "main_text:None\n",
      "score:0.9653615\n",
      "-----------------------------\n"
     ]
    }
   ],
   "source": [
    "search_word=\"鈴木 一郎\"\n",
    "url=g_url_base+\"select?q=\"+search_word+\"&wt=json&indent=true&defType=edismax&qf=title+main_text&fl=*,score\"\n",
    "print(url)\n",
    "ret=requests.post(url,headers=header)\n",
    "\n",
    "jsonData = ret.json()[\"response\"][\"docs\"]\n",
    "for i in range(len(jsonData)):\n",
    "    for key in jsonData[i].keys():\n",
    "        data = jsonData[i][key]\n",
    "        if type(data)==str:\n",
    "            data=data[:50]\n",
    "        if \"_version_\"==key:\n",
    "            continue            \n",
    "        print(\"{0}:{1}\".format(key,data))\n",
    "    print(\"-----------------------------\")\n",
    "   "
   ]
  },
  {
   "cell_type": "code",
   "execution_count": 25,
   "metadata": {},
   "outputs": [
    {
     "data": {
      "text/plain": [
       "{'responseHeader': {'status': 0,\n",
       "  'QTime': 1,\n",
       "  'params': {'q.alt': '鈴木',\n",
       "   'defType': 'dismax',\n",
       "   'indent': 'true',\n",
       "   'qf': 'main_text title',\n",
       "   'fl': 'score',\n",
       "   'json': '',\n",
       "   'wt': 'json'}},\n",
       " 'response': {'numFound': 2,\n",
       "  'start': 0,\n",
       "  'maxScore': 0.57735026,\n",
       "  'numFoundExact': True,\n",
       "  'docs': [{'score': 0.57735026}, {'score': 0.5}]}}"
      ]
     },
     "execution_count": 25,
     "metadata": {},
     "output_type": "execute_result"
    }
   ],
   "source": [
    "ret.json()"
   ]
  }
 ],
 "metadata": {
  "kernelspec": {
   "display_name": "Python 3",
   "language": "python",
   "name": "python3"
  },
  "language_info": {
   "codemirror_mode": {
    "name": "ipython",
    "version": 3
   },
   "file_extension": ".py",
   "mimetype": "text/x-python",
   "name": "python",
   "nbconvert_exporter": "python",
   "pygments_lexer": "ipython3",
   "version": "3.6.10"
  }
 },
 "nbformat": 4,
 "nbformat_minor": 4
}
